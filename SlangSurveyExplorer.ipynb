{
 "cells": [
  {
   "cell_type": "markdown",
   "id": "4fb1597d",
   "metadata": {},
   "source": [
    "## Explorer tool for survey data on Australian Slang\n",
    "\n",
    "This notebook allows you to run complex queries on the data collected in our survey.\n",
    "\n",
    "In a Jupyter notebook, the code in a cell is executed by placing your cursor in the relevant cell and then either:\n",
    "- clicking on the button in the menu bar above (the one that looks like a **Play** button)\n",
    "- pressing `Ctrl+Enter`\n",
    "- pressing `Shift+Enter`\n",
    "\n",
    "In this notebook, you need to run the first three code cells at the start of a session, but then all the necessary tools and data are loaded and you will not need to run those cells again.\n",
    "\n",
    "Just closing this window does not end a SWAN session. For good housekeeping (i.e. releasing resources back to the system), you should end the session by selection **Shutdown Current Session** from the **File** menu."
   ]
  },
  {
   "cell_type": "code",
   "execution_count": null,
   "id": "39220e27",
   "metadata": {},
   "outputs": [],
   "source": [
    "# load packages\n",
    "# this line not needed in SWAN but may be needed elsewhere\n",
    "# install.packages('stringr')\n",
    "library(stringr)"
   ]
  },
  {
   "cell_type": "code",
   "execution_count": 1,
   "id": "38a34ada",
   "metadata": {},
   "outputs": [],
   "source": [
    "# ranges for queries\n",
    "# table for retrieving data by prompt\n",
    "q_col <- seq(from = 15, to = 80, by = 5)\n",
    "start <- q_col + 1\n",
    "end <- q_col + 4\n",
    "prompt_cols <- data.frame(q_col, start, end)\n",
    "prompt_cols[14,2] <- 0\n",
    "prompt_cols[14,3] <- 0\n",
    "\n",
    "# table for retrieving data by state\n",
    "states <- c('NT','NSW','VIC','QLD','SA','WA','TAS')\n",
    "pc_start <- c(799,1999,2999,3999,4999,5999,6999)\n",
    "pc_end <- c(1000,3000,4000,5000,6000,7000,8000)\n",
    "pc_states <- data.frame(states, pc_start, pc_end)"
   ]
  },
  {
   "cell_type": "code",
   "execution_count": 2,
   "id": "1967f453",
   "metadata": {},
   "outputs": [
    {
     "data": {
      "text/html": [
       "<table class=\"dataframe\">\n",
       "<caption>A data.frame: 5 × 126</caption>\n",
       "<thead>\n",
       "\t<tr><th></th><th scope=col>X.14</th><th scope=col>StartDate</th><th scope=col>EndDate</th><th scope=col>Finished</th><th scope=col>RecordedDate</th><th scope=col>LocationLatitude</th><th scope=col>LocationLongitude</th><th scope=col>Q3</th><th scope=col>Q4</th><th scope=col>Q11</th><th scope=col>⋯</th><th scope=col>X.5</th><th scope=col>X.6</th><th scope=col>X.7</th><th scope=col>X.8</th><th scope=col>X.9</th><th scope=col>X.10</th><th scope=col>X.11</th><th scope=col>X.12</th><th scope=col>X.13</th><th scope=col>postcode</th></tr>\n",
       "\t<tr><th></th><th scope=col>&lt;int&gt;</th><th scope=col>&lt;chr&gt;</th><th scope=col>&lt;chr&gt;</th><th scope=col>&lt;chr&gt;</th><th scope=col>&lt;chr&gt;</th><th scope=col>&lt;chr&gt;</th><th scope=col>&lt;chr&gt;</th><th scope=col>&lt;chr&gt;</th><th scope=col>&lt;chr&gt;</th><th scope=col>&lt;chr&gt;</th><th scope=col>⋯</th><th scope=col>&lt;lgl&gt;</th><th scope=col>&lt;lgl&gt;</th><th scope=col>&lt;lgl&gt;</th><th scope=col>&lt;lgl&gt;</th><th scope=col>&lt;lgl&gt;</th><th scope=col>&lt;lgl&gt;</th><th scope=col>&lt;lgl&gt;</th><th scope=col>&lt;lgl&gt;</th><th scope=col>&lt;lgl&gt;</th><th scope=col>&lt;int&gt;</th></tr>\n",
       "</thead>\n",
       "<tbody>\n",
       "\t<tr><th scope=row>1</th><td>1</td><td>Start Date         </td><td>End Date           </td><td>Finished</td><td>Recorded Date      </td><td>Location Latitude   </td><td>Location Longitude </td><td>In what range is your age?</td><td>What is your age?</td><td>What gender or genders do you identify with? (You can choose more than one)</td><td>⋯</td><td>NA</td><td>NA</td><td>NA</td><td>NA</td><td>NA</td><td>NA</td><td>NA</td><td>NA</td><td>NA</td><td>3995</td></tr>\n",
       "\t<tr><th scope=row>2</th><td>2</td><td>2021-08-11 17:33:05</td><td>2021-08-11 17:43:22</td><td>True    </td><td>2021-08-11 17:43:22</td><td>-37.879302978515625 </td><td>145.12689208984375 </td><td>Over 60                   </td><td>                 </td><td>Woman                                                                      </td><td>⋯</td><td>NA</td><td>NA</td><td>NA</td><td>NA</td><td>NA</td><td>NA</td><td>NA</td><td>NA</td><td>NA</td><td>3995</td></tr>\n",
       "\t<tr><th scope=row>3</th><td>3</td><td>2021-08-11 17:04:06</td><td>2021-08-11 17:43:44</td><td>True    </td><td>2021-08-11 17:43:44</td><td>-33.8715057373046875</td><td>151.200592041015625</td><td>Over 60                   </td><td>                 </td><td>Woman                                                                      </td><td>⋯</td><td>NA</td><td>NA</td><td>NA</td><td>NA</td><td>NA</td><td>NA</td><td>NA</td><td>NA</td><td>NA</td><td>2229</td></tr>\n",
       "\t<tr><th scope=row>4</th><td>4</td><td>2021-08-11 16:13:28</td><td>2021-08-11 17:54:24</td><td>True    </td><td>2021-08-11 17:54:25</td><td>-12.808807373046875 </td><td>130.96728515625    </td><td>40 - 60                   </td><td>                 </td><td>Woman                                                                      </td><td>⋯</td><td>NA</td><td>NA</td><td>NA</td><td>NA</td><td>NA</td><td>NA</td><td>NA</td><td>NA</td><td>NA</td><td> 841</td></tr>\n",
       "\t<tr><th scope=row>5</th><td>5</td><td>2021-08-11 17:28:55</td><td>2021-08-11 18:16:04</td><td>True    </td><td>2021-08-11 18:16:04</td><td>-27.47320556640625  </td><td>153.021514892578125</td><td>40 - 60                   </td><td>                 </td><td>Woman                                                                      </td><td>⋯</td><td>NA</td><td>NA</td><td>NA</td><td>NA</td><td>NA</td><td>NA</td><td>NA</td><td>NA</td><td>NA</td><td>4810</td></tr>\n",
       "</tbody>\n",
       "</table>\n"
      ],
      "text/latex": [
       "A data.frame: 5 × 126\n",
       "\\begin{tabular}{r|lllllllllllllllllllll}\n",
       "  & X.14 & StartDate & EndDate & Finished & RecordedDate & LocationLatitude & LocationLongitude & Q3 & Q4 & Q11 & ⋯ & X.5 & X.6 & X.7 & X.8 & X.9 & X.10 & X.11 & X.12 & X.13 & postcode\\\\\n",
       "  & <int> & <chr> & <chr> & <chr> & <chr> & <chr> & <chr> & <chr> & <chr> & <chr> & ⋯ & <lgl> & <lgl> & <lgl> & <lgl> & <lgl> & <lgl> & <lgl> & <lgl> & <lgl> & <int>\\\\\n",
       "\\hline\n",
       "\t1 & 1 & Start Date          & End Date            & Finished & Recorded Date       & Location Latitude    & Location Longitude  & In what range is your age? & What is your age? & What gender or genders do you identify with? (You can choose more than one) & ⋯ & NA & NA & NA & NA & NA & NA & NA & NA & NA & 3995\\\\\n",
       "\t2 & 2 & 2021-08-11 17:33:05 & 2021-08-11 17:43:22 & True     & 2021-08-11 17:43:22 & -37.879302978515625  & 145.12689208984375  & Over 60                    &                   & Woman                                                                       & ⋯ & NA & NA & NA & NA & NA & NA & NA & NA & NA & 3995\\\\\n",
       "\t3 & 3 & 2021-08-11 17:04:06 & 2021-08-11 17:43:44 & True     & 2021-08-11 17:43:44 & -33.8715057373046875 & 151.200592041015625 & Over 60                    &                   & Woman                                                                       & ⋯ & NA & NA & NA & NA & NA & NA & NA & NA & NA & 2229\\\\\n",
       "\t4 & 4 & 2021-08-11 16:13:28 & 2021-08-11 17:54:24 & True     & 2021-08-11 17:54:25 & -12.808807373046875  & 130.96728515625     & 40 - 60                    &                   & Woman                                                                       & ⋯ & NA & NA & NA & NA & NA & NA & NA & NA & NA &  841\\\\\n",
       "\t5 & 5 & 2021-08-11 17:28:55 & 2021-08-11 18:16:04 & True     & 2021-08-11 18:16:04 & -27.47320556640625   & 153.021514892578125 & 40 - 60                    &                   & Woman                                                                       & ⋯ & NA & NA & NA & NA & NA & NA & NA & NA & NA & 4810\\\\\n",
       "\\end{tabular}\n"
      ],
      "text/markdown": [
       "\n",
       "A data.frame: 5 × 126\n",
       "\n",
       "| <!--/--> | X.14 &lt;int&gt; | StartDate &lt;chr&gt; | EndDate &lt;chr&gt; | Finished &lt;chr&gt; | RecordedDate &lt;chr&gt; | LocationLatitude &lt;chr&gt; | LocationLongitude &lt;chr&gt; | Q3 &lt;chr&gt; | Q4 &lt;chr&gt; | Q11 &lt;chr&gt; | ⋯ ⋯ | X.5 &lt;lgl&gt; | X.6 &lt;lgl&gt; | X.7 &lt;lgl&gt; | X.8 &lt;lgl&gt; | X.9 &lt;lgl&gt; | X.10 &lt;lgl&gt; | X.11 &lt;lgl&gt; | X.12 &lt;lgl&gt; | X.13 &lt;lgl&gt; | postcode &lt;int&gt; |\n",
       "|---|---|---|---|---|---|---|---|---|---|---|---|---|---|---|---|---|---|---|---|---|---|\n",
       "| 1 | 1 | Start Date          | End Date            | Finished | Recorded Date       | Location Latitude    | Location Longitude  | In what range is your age? | What is your age? | What gender or genders do you identify with? (You can choose more than one) | ⋯ | NA | NA | NA | NA | NA | NA | NA | NA | NA | 3995 |\n",
       "| 2 | 2 | 2021-08-11 17:33:05 | 2021-08-11 17:43:22 | True     | 2021-08-11 17:43:22 | -37.879302978515625  | 145.12689208984375  | Over 60                    | <!----> | Woman                                                                       | ⋯ | NA | NA | NA | NA | NA | NA | NA | NA | NA | 3995 |\n",
       "| 3 | 3 | 2021-08-11 17:04:06 | 2021-08-11 17:43:44 | True     | 2021-08-11 17:43:44 | -33.8715057373046875 | 151.200592041015625 | Over 60                    | <!----> | Woman                                                                       | ⋯ | NA | NA | NA | NA | NA | NA | NA | NA | NA | 2229 |\n",
       "| 4 | 4 | 2021-08-11 16:13:28 | 2021-08-11 17:54:24 | True     | 2021-08-11 17:54:25 | -12.808807373046875  | 130.96728515625     | 40 - 60                    | <!----> | Woman                                                                       | ⋯ | NA | NA | NA | NA | NA | NA | NA | NA | NA |  841 |\n",
       "| 5 | 5 | 2021-08-11 17:28:55 | 2021-08-11 18:16:04 | True     | 2021-08-11 18:16:04 | -27.47320556640625   | 153.021514892578125 | 40 - 60                    | <!----> | Woman                                                                       | ⋯ | NA | NA | NA | NA | NA | NA | NA | NA | NA | 4810 |\n",
       "\n"
      ],
      "text/plain": [
       "  X.14 StartDate           EndDate             Finished RecordedDate       \n",
       "1 1    Start Date          End Date            Finished Recorded Date      \n",
       "2 2    2021-08-11 17:33:05 2021-08-11 17:43:22 True     2021-08-11 17:43:22\n",
       "3 3    2021-08-11 17:04:06 2021-08-11 17:43:44 True     2021-08-11 17:43:44\n",
       "4 4    2021-08-11 16:13:28 2021-08-11 17:54:24 True     2021-08-11 17:54:25\n",
       "5 5    2021-08-11 17:28:55 2021-08-11 18:16:04 True     2021-08-11 18:16:04\n",
       "  LocationLatitude     LocationLongitude   Q3                        \n",
       "1 Location Latitude    Location Longitude  In what range is your age?\n",
       "2 -37.879302978515625  145.12689208984375  Over 60                   \n",
       "3 -33.8715057373046875 151.200592041015625 Over 60                   \n",
       "4 -12.808807373046875  130.96728515625     40 - 60                   \n",
       "5 -27.47320556640625   153.021514892578125 40 - 60                   \n",
       "  Q4               \n",
       "1 What is your age?\n",
       "2                  \n",
       "3                  \n",
       "4                  \n",
       "5                  \n",
       "  Q11                                                                         ⋯\n",
       "1 What gender or genders do you identify with? (You can choose more than one) ⋯\n",
       "2 Woman                                                                       ⋯\n",
       "3 Woman                                                                       ⋯\n",
       "4 Woman                                                                       ⋯\n",
       "5 Woman                                                                       ⋯\n",
       "  X.5 X.6 X.7 X.8 X.9 X.10 X.11 X.12 X.13 postcode\n",
       "1 NA  NA  NA  NA  NA  NA   NA   NA   NA   3995    \n",
       "2 NA  NA  NA  NA  NA  NA   NA   NA   NA   3995    \n",
       "3 NA  NA  NA  NA  NA  NA   NA   NA   NA   2229    \n",
       "4 NA  NA  NA  NA  NA  NA   NA   NA   NA    841    \n",
       "5 NA  NA  NA  NA  NA  NA   NA   NA   NA   4810    "
      ]
     },
     "metadata": {},
     "output_type": "display_data"
    }
   ],
   "source": [
    "# read in data\n",
    "slang_data <- read.csv('NotebookData_postcode.csv', header = TRUE, stringsAsFactors = FALSE)\n",
    "\n",
    "#inspect to check it worked\n",
    "slang_data[1:5,]\n"
   ]
  },
  {
   "cell_type": "markdown",
   "id": "cf6a8f14",
   "metadata": {},
   "source": [
    "## Constructing a query\n",
    "\n",
    "We can choose values for gender, age, state of residence and the range of prompts of interest. This means you can, for example, retrieve responses to the prompt about alcohol for women over the age of 60 living in Victoria. The relevant values are set out below; make your choices and then type the corresponding values in the following code cell to set the value of the variables which will be fed to the query. \n",
    "\n",
    "You do not have to select a value for each variable, but if you are not using any of them, the value for Gender,Age or State should be `= ''` (i.e. with no space between the inverted commas, and for Prompt the value should be `0`.\n",
    "\n",
    "Currently, only one prompt can be selected; an upgrade to allow for multiple prompts to be selected is coming.\n",
    "\n",
    "If you want to change the variables in your query, you have to amend the cell below and then run it again. You can then rerun the query code; doing this will overwrite any existing results.\n",
    "\n",
    "**Gender**: Woman, Man, Non-binary / gender diverse, Prefer not to say\n",
    "\n",
    "**Age**: Under 18, 19 - 40, 40 - 60, Over 60\n",
    "\n",
    "**State**: NT, NSW, VIC, QLD, SA, WA, TAS\n",
    "\n",
    "**Prompts**: 1 = very good, 2 = very bad, 3 = stupid person, 4 = attractive person, 5 = attractive person, 6 = attractive male, 7 = unattractive person, 8 = arrogant, 9 = nonsense, 10 = alcohol, 11 = intoxicated, 12 = person who does not contribute, 13 = part of the body"
   ]
  },
  {
   "cell_type": "code",
   "execution_count": 33,
   "id": "0203a94b",
   "metadata": {},
   "outputs": [],
   "source": [
    "#set query variables\n",
    "gender <- 'Woman'\n",
    "age <- '19 - 40'\n",
    "state <- 'NSW'\n",
    "\n",
    "# one prompt only\n",
    "prompts <- 1 "
   ]
  },
  {
   "cell_type": "code",
   "execution_count": 34,
   "id": "600e913c",
   "metadata": {},
   "outputs": [
    {
     "name": "stdout",
     "output_type": "stream",
     "text": [
      "[1] \"Your query returns 72 rows\"\n"
     ]
    },
    {
     "data": {
      "text/html": [
       "<table class=\"dataframe\">\n",
       "<caption>A data.frame: 5 × 18</caption>\n",
       "<thead>\n",
       "\t<tr><th></th><th scope=col>X.14</th><th scope=col>StartDate</th><th scope=col>EndDate</th><th scope=col>Finished</th><th scope=col>RecordedDate</th><th scope=col>LocationLatitude</th><th scope=col>LocationLongitude</th><th scope=col>Q3</th><th scope=col>Q4</th><th scope=col>Q11</th><th scope=col>Q12</th><th scope=col>Q6</th><th scope=col>Q8</th><th scope=col>Q10</th><th scope=col>Q100</th><th scope=col>Q119</th><th scope=col>Q66</th><th scope=col>Q67</th></tr>\n",
       "\t<tr><th></th><th scope=col>&lt;int&gt;</th><th scope=col>&lt;chr&gt;</th><th scope=col>&lt;chr&gt;</th><th scope=col>&lt;chr&gt;</th><th scope=col>&lt;chr&gt;</th><th scope=col>&lt;chr&gt;</th><th scope=col>&lt;chr&gt;</th><th scope=col>&lt;chr&gt;</th><th scope=col>&lt;chr&gt;</th><th scope=col>&lt;chr&gt;</th><th scope=col>&lt;chr&gt;</th><th scope=col>&lt;chr&gt;</th><th scope=col>&lt;chr&gt;</th><th scope=col>&lt;chr&gt;</th><th scope=col>&lt;chr&gt;</th><th scope=col>&lt;chr&gt;</th><th scope=col>&lt;chr&gt;</th><th scope=col>&lt;chr&gt;</th></tr>\n",
       "</thead>\n",
       "<tbody>\n",
       "\t<tr><th scope=row>32</th><td> 32</td><td>2021-08-11 18:48:32</td><td>2021-08-11 20:50:02</td><td>True</td><td>2021-08-11 21:05:03</td><td>-34.135894775390625 </td><td>150.731201171875    </td><td>19 - 40</td><td></td><td>Woman</td><td></td><td>2568</td><td>No </td><td>Germany        </td><td>Yes</td><td>ripper</td><td>That is a great joke. It's a bloody ripper!</td><td>Conversational. Being taught by older generations when travelling/ living in the same household 20 years ago when back-packing - more frequent use in 40+, males and semi-urban or rura areasl</td></tr>\n",
       "\t<tr><th scope=row>55</th><td> 55</td><td>2021-08-12 15:32:47</td><td>2021-08-12 15:41:12</td><td>True</td><td>2021-08-12 15:41:12</td><td>37.8636932373046875 </td><td>-122.2760009765625  </td><td>19 - 40</td><td></td><td>Woman</td><td></td><td>2251</td><td>Yes</td><td>               </td><td>Yes</td><td>Beaut </td><td>That’s a beaut hammer                      </td><td>Family                                                                                                                                                                                        </td></tr>\n",
       "\t<tr><th scope=row>56</th><td> 56</td><td>2021-08-12 15:41:54</td><td>2021-08-12 16:04:24</td><td>True</td><td>2021-08-12 16:04:24</td><td>37.8636932373046875 </td><td>-122.2760009765625  </td><td>19 - 40</td><td></td><td>Woman</td><td></td><td>2037</td><td>No </td><td>Orange NSW 2800</td><td>Yes</td><td>Beauty</td><td>It's a real beauty, that one!              </td><td>Particularly when buying/getting something new (a car, a horse)                                                                                                                               </td></tr>\n",
       "\t<tr><th scope=row>77</th><td> 77</td><td>2021-08-15 09:03:04</td><td>2021-08-15 09:31:51</td><td>True</td><td>2021-08-15 09:31:52</td><td>40.694000244140625  </td><td>-73.9900970458984375</td><td>19 - 40</td><td></td><td>Woman</td><td></td><td>2026</td><td>No </td><td>2780           </td><td>Yes</td><td>Grouse</td><td>'That's grouse'                            </td><td>I used to use it when I was a teenager                                                                                                                                                        </td></tr>\n",
       "\t<tr><th scope=row>104</th><td>104</td><td>2021-08-11 22:22:24</td><td>2021-08-11 22:57:23</td><td>True</td><td>2021-08-11 22:57:23</td><td>-33.8715057373046875</td><td>151.200592041015625 </td><td>19 - 40</td><td></td><td>Woman</td><td></td><td>2073</td><td>Yes</td><td>               </td><td>Yes</td><td>Ripper</td><td>That sunset was ripper                     </td><td>Songs, older generations, usually men                                                                                                                                                         </td></tr>\n",
       "</tbody>\n",
       "</table>\n"
      ],
      "text/latex": [
       "A data.frame: 5 × 18\n",
       "\\begin{tabular}{r|llllllllllllllllll}\n",
       "  & X.14 & StartDate & EndDate & Finished & RecordedDate & LocationLatitude & LocationLongitude & Q3 & Q4 & Q11 & Q12 & Q6 & Q8 & Q10 & Q100 & Q119 & Q66 & Q67\\\\\n",
       "  & <int> & <chr> & <chr> & <chr> & <chr> & <chr> & <chr> & <chr> & <chr> & <chr> & <chr> & <chr> & <chr> & <chr> & <chr> & <chr> & <chr> & <chr>\\\\\n",
       "\\hline\n",
       "\t32 &  32 & 2021-08-11 18:48:32 & 2021-08-11 20:50:02 & True & 2021-08-11 21:05:03 & -34.135894775390625  & 150.731201171875     & 19 - 40 &  & Woman &  & 2568 & No  & Germany         & Yes & ripper & That is a great joke. It's a bloody ripper! & Conversational. Being taught by older generations when travelling/ living in the same household 20 years ago when back-packing - more frequent use in 40+, males and semi-urban or rura areasl\\\\\n",
       "\t55 &  55 & 2021-08-12 15:32:47 & 2021-08-12 15:41:12 & True & 2021-08-12 15:41:12 & 37.8636932373046875  & -122.2760009765625   & 19 - 40 &  & Woman &  & 2251 & Yes &                 & Yes & Beaut  & That’s a beaut hammer                       & Family                                                                                                                                                                                        \\\\\n",
       "\t56 &  56 & 2021-08-12 15:41:54 & 2021-08-12 16:04:24 & True & 2021-08-12 16:04:24 & 37.8636932373046875  & -122.2760009765625   & 19 - 40 &  & Woman &  & 2037 & No  & Orange NSW 2800 & Yes & Beauty & It's a real beauty, that one!               & Particularly when buying/getting something new (a car, a horse)                                                                                                                               \\\\\n",
       "\t77 &  77 & 2021-08-15 09:03:04 & 2021-08-15 09:31:51 & True & 2021-08-15 09:31:52 & 40.694000244140625   & -73.9900970458984375 & 19 - 40 &  & Woman &  & 2026 & No  & 2780            & Yes & Grouse & 'That's grouse'                             & I used to use it when I was a teenager                                                                                                                                                        \\\\\n",
       "\t104 & 104 & 2021-08-11 22:22:24 & 2021-08-11 22:57:23 & True & 2021-08-11 22:57:23 & -33.8715057373046875 & 151.200592041015625  & 19 - 40 &  & Woman &  & 2073 & Yes &                 & Yes & Ripper & That sunset was ripper                      & Songs, older generations, usually men                                                                                                                                                         \\\\\n",
       "\\end{tabular}\n"
      ],
      "text/markdown": [
       "\n",
       "A data.frame: 5 × 18\n",
       "\n",
       "| <!--/--> | X.14 &lt;int&gt; | StartDate &lt;chr&gt; | EndDate &lt;chr&gt; | Finished &lt;chr&gt; | RecordedDate &lt;chr&gt; | LocationLatitude &lt;chr&gt; | LocationLongitude &lt;chr&gt; | Q3 &lt;chr&gt; | Q4 &lt;chr&gt; | Q11 &lt;chr&gt; | Q12 &lt;chr&gt; | Q6 &lt;chr&gt; | Q8 &lt;chr&gt; | Q10 &lt;chr&gt; | Q100 &lt;chr&gt; | Q119 &lt;chr&gt; | Q66 &lt;chr&gt; | Q67 &lt;chr&gt; |\n",
       "|---|---|---|---|---|---|---|---|---|---|---|---|---|---|---|---|---|---|---|\n",
       "| 32 |  32 | 2021-08-11 18:48:32 | 2021-08-11 20:50:02 | True | 2021-08-11 21:05:03 | -34.135894775390625  | 150.731201171875     | 19 - 40 | <!----> | Woman | <!----> | 2568 | No  | Germany         | Yes | ripper | That is a great joke. It's a bloody ripper! | Conversational. Being taught by older generations when travelling/ living in the same household 20 years ago when back-packing - more frequent use in 40+, males and semi-urban or rura areasl |\n",
       "| 55 |  55 | 2021-08-12 15:32:47 | 2021-08-12 15:41:12 | True | 2021-08-12 15:41:12 | 37.8636932373046875  | -122.2760009765625   | 19 - 40 | <!----> | Woman | <!----> | 2251 | Yes | <!----> | Yes | Beaut  | That’s a beaut hammer                       | Family                                                                                                                                                                                         |\n",
       "| 56 |  56 | 2021-08-12 15:41:54 | 2021-08-12 16:04:24 | True | 2021-08-12 16:04:24 | 37.8636932373046875  | -122.2760009765625   | 19 - 40 | <!----> | Woman | <!----> | 2037 | No  | Orange NSW 2800 | Yes | Beauty | It's a real beauty, that one!               | Particularly when buying/getting something new (a car, a horse)                                                                                                                                |\n",
       "| 77 |  77 | 2021-08-15 09:03:04 | 2021-08-15 09:31:51 | True | 2021-08-15 09:31:52 | 40.694000244140625   | -73.9900970458984375 | 19 - 40 | <!----> | Woman | <!----> | 2026 | No  | 2780            | Yes | Grouse | 'That's grouse'                             | I used to use it when I was a teenager                                                                                                                                                         |\n",
       "| 104 | 104 | 2021-08-11 22:22:24 | 2021-08-11 22:57:23 | True | 2021-08-11 22:57:23 | -33.8715057373046875 | 151.200592041015625  | 19 - 40 | <!----> | Woman | <!----> | 2073 | Yes | <!----> | Yes | Ripper | That sunset was ripper                      | Songs, older generations, usually men                                                                                                                                                          |\n",
       "\n"
      ],
      "text/plain": [
       "    X.14 StartDate           EndDate             Finished RecordedDate       \n",
       "32   32  2021-08-11 18:48:32 2021-08-11 20:50:02 True     2021-08-11 21:05:03\n",
       "55   55  2021-08-12 15:32:47 2021-08-12 15:41:12 True     2021-08-12 15:41:12\n",
       "56   56  2021-08-12 15:41:54 2021-08-12 16:04:24 True     2021-08-12 16:04:24\n",
       "77   77  2021-08-15 09:03:04 2021-08-15 09:31:51 True     2021-08-15 09:31:52\n",
       "104 104  2021-08-11 22:22:24 2021-08-11 22:57:23 True     2021-08-11 22:57:23\n",
       "    LocationLatitude     LocationLongitude    Q3      Q4 Q11   Q12 Q6   Q8 \n",
       "32  -34.135894775390625  150.731201171875     19 - 40    Woman     2568 No \n",
       "55  37.8636932373046875  -122.2760009765625   19 - 40    Woman     2251 Yes\n",
       "56  37.8636932373046875  -122.2760009765625   19 - 40    Woman     2037 No \n",
       "77  40.694000244140625   -73.9900970458984375 19 - 40    Woman     2026 No \n",
       "104 -33.8715057373046875 151.200592041015625  19 - 40    Woman     2073 Yes\n",
       "    Q10             Q100 Q119   Q66                                        \n",
       "32  Germany         Yes  ripper That is a great joke. It's a bloody ripper!\n",
       "55                  Yes  Beaut  That’s a beaut hammer                      \n",
       "56  Orange NSW 2800 Yes  Beauty It's a real beauty, that one!              \n",
       "77  2780            Yes  Grouse 'That's grouse'                            \n",
       "104                 Yes  Ripper That sunset was ripper                     \n",
       "    Q67                                                                                                                                                                                           \n",
       "32  Conversational. Being taught by older generations when travelling/ living in the same household 20 years ago when back-packing - more frequent use in 40+, males and semi-urban or rura areasl\n",
       "55  Family                                                                                                                                                                                        \n",
       "56  Particularly when buying/getting something new (a car, a horse)                                                                                                                               \n",
       "77  I used to use it when I was a teenager                                                                                                                                                        \n",
       "104 Songs, older generations, usually men                                                                                                                                                         "
      ]
     },
     "metadata": {},
     "output_type": "display_data"
    }
   ],
   "source": [
    "# construct query and run it\n",
    "\n",
    "message <- c('Your query returns', '0', 'rows')\n",
    "# get postcodes and run query\n",
    "if (state != '') {\n",
    "    state_codes <- subset(pc_states, pc_states$states == state)\n",
    "    result_1 <- subset(slang_data, eval(expression(slang_data$postcode > state_codes$pc_start & slang_data$postcode < state_codes$pc_end)))\n",
    "    } else {result_1 <- slang_data}\n",
    "\n",
    "# filter by gender\n",
    "if (gender != '') {\n",
    "    result_2 <- subset(result_1, result_1$Q11 == gender)\n",
    "} else {result_2 <- result_1}\n",
    "\n",
    "# filter by age\n",
    "if (age != '') {\n",
    "    result_3 <- subset(result_2, result_2$Q3 == age)\n",
    "} else {result_3 <- result_2}\n",
    "\n",
    "if (nrow(result_3) == 0) {\n",
    "    message_str <- paste(message, collapse = ' ')\n",
    "    print(message_str)\n",
    "} else {\n",
    "    message[2] <- nrow(result_3)\n",
    "    message_str <- paste(message, collapse = ' ')\n",
    "    print(message_str)\n",
    "    if (prompts > 0) {\n",
    "# delete columns for unwanted prompts\n",
    "        result_final <- result_3[c(1:14, prompt_cols[prompts,2]:prompt_cols[prompts,3])]\n",
    "    } else {result_final <- result_3}\n",
    "   if (nrow(result_final) < 5) {\n",
    "       result_final\n",
    "       } else {\n",
    "       result_final[1:5 ,]\n",
    "       }\n",
    "}\n",
    "  \n"
   ]
  },
  {
   "cell_type": "markdown",
   "id": "7992150e",
   "metadata": {},
   "source": [
    "## Exporting results\n",
    "\n",
    "You can export your results as a comma-separated values file which can be opened by Excel (or other spreadsheet software). The syntax for doing this is `write.csv([name of table to export], '[location for saving].csv')`. If you just provide a file name for the export (and it has to include the .csv extension!), the file will be saved in your current working directory in Cloudstor or SWAN. It is easy to download the file from there to save on your computer. But you can also specify the location on your computer directly. If you do this, you have to provide a complete path to the preferred location, and this should use / as dividers (not \\\\)."
   ]
  },
  {
   "cell_type": "code",
   "execution_count": 9,
   "id": "57bf95a7",
   "metadata": {},
   "outputs": [],
   "source": [
    "write.csv(result_final, 'export.csv' )"
   ]
  },
  {
   "cell_type": "code",
   "execution_count": null,
   "id": "d146b622-5d90-4800-ae51-30684ed8d99c",
   "metadata": {},
   "outputs": [],
   "source": []
  }
 ],
 "metadata": {
  "kernelspec": {
   "display_name": "R",
   "language": "R",
   "name": "ir"
  },
  "language_info": {
   "codemirror_mode": "r",
   "file_extension": ".r",
   "mimetype": "text/x-r-source",
   "name": "R",
   "pygments_lexer": "r",
   "version": "4.1.2"
  }
 },
 "nbformat": 4,
 "nbformat_minor": 5
}
