{
 "cells": [
  {
   "cell_type": "markdown",
   "id": "4fb1597d",
   "metadata": {},
   "source": [
    "## Explorer tool for survey data on Australian Slang\n",
    "\n",
    "This notebook allows you to run complex queries on the data collected in our survey.\n",
    "\n",
    "In a Jupyter notebook, the code in a cell is executed by placing your cursor in the relevant cell and then either:\n",
    "- clicking on the button in the menu bar above (the one that looks like a **Play** button)\n",
    "- pressing `Ctrl+Enter`\n",
    "- pressing `Shift+Enter`\n",
    "\n",
    "In this notebook, you need to run the first three code cells at the start of a session, but then all the necessary tools and data are loaded and you will not need to run those cells again.\n",
    "\n",
    "Just closing this window does not end a SWAN session. For good housekeeping (i.e. releasing resources back to the system), you should end the session by selection **Shutdown Current Session** from the **File** menu."
   ]
  },
  {
   "cell_type": "code",
   "execution_count": null,
   "id": "39220e27",
   "metadata": {},
   "outputs": [],
   "source": [
    "# load packages\n",
    "# this line not needed in SWAN but may be needed elsewhere\n",
    "# install.packages('stringr')\n",
    "library(stringr)"
   ]
  },
  {
   "cell_type": "code",
   "execution_count": null,
   "id": "38a34ada",
   "metadata": {},
   "outputs": [],
   "source": [
    "# ranges for queries\n",
    "# table for retrieving data by prompt\n",
    "q_col <- seq(from = 15, to = 80, by = 5)\n",
    "start <- q_col + 1\n",
    "end <- q_col + 4\n",
    "prompt_cols <- data.frame(q_col, start, end)\n",
    "prompt_cols[14,2] <- 0\n",
    "prompt_cols[14,3] <- 0\n",
    "\n",
    "# table for retrieving data by state\n",
    "states <- c('NT','NSW','VIC','QLD','SA','WA','TAS')\n",
    "pc_start <- c(799,1999,2999,3999,4999,5999,6999)\n",
    "pc_end <- c(1000,3000,4000,5000,6000,7000,8000)\n",
    "pc_states <- data.frame(states, pc_start, pc_end)"
   ]
  },
  {
   "cell_type": "code",
   "execution_count": null,
   "id": "1967f453",
   "metadata": {},
   "outputs": [],
   "source": [
    "# read in data\n",
    "slang_data <- read.csv('NotebookData_postcode.csv', header = TRUE, stringsAsFactors = FALSE)\n",
    "\n",
    "#inspect to check it worked\n",
    "slang_data[1:5,]\n"
   ]
  },
  {
   "cell_type": "markdown",
   "id": "cf6a8f14",
   "metadata": {},
   "source": [
    "## Constructing a query\n",
    "\n",
    "We can choose values for gender, age, state of residence and the range of prompts of interest. This means you can, for example, retrieve responses to the prompt about alcohol for women over the age of 60 living in Victoria. The relevant values are set out below; make your choices and then type the corresponding values in the following code cell to set the value of the variables which will be fed to the query. \n",
    "\n",
    "You do not have to select a value for each variable, but if you are not using any of them, the value for Gender,Age or State should be `= ''` (i.e. with no space between the inverted commas, and for Prompt the value should be `0`.\n",
    "\n",
    "Currently, only one prompt can be selected; an upgrade to allow for multiple prompts to be selected is coming.\n",
    "\n",
    "If you want to change the variables in your query, you have to amend the cell below and then run it again. You can then rerun the query code; doing this will overwrite any existing results.\n",
    "\n",
    "**Gender**: Woman, Man, Non-binary / gender diverse, Prefer not to say\n",
    "\n",
    "**Age**: Under 18, 19 - 40, 40 - 60, Over 60\n",
    "\n",
    "**State**: NT, NSW, VIC, QLD, SA, WA, TAS\n",
    "\n",
    "**Prompts**: 1 = very good, 2 = very bad, 3 = stupid person, 4 = attractive person, 5 = attractive person, 6 = attractive male, 7 = unattractive person, 8 = arrogant, 9 = nonsense, 10 = alcohol, 11 = intoxicated, 12 = person who does not contribute, 13 = part of the body"
   ]
  },
  {
   "cell_type": "code",
   "execution_count": null,
   "id": "0203a94b",
   "metadata": {},
   "outputs": [],
   "source": [
    "#set query variables\n",
    "gender <- 'Woman'\n",
    "age <- '19 - 40'\n",
    "state <- 'NSW'\n",
    "\n",
    "# one prompt only\n",
    "prompts <- 1 "
   ]
  },
  {
   "cell_type": "code",
   "execution_count": null,
   "id": "600e913c",
   "metadata": {},
   "outputs": [],
   "source": [
    "# construct query and run it\n",
    "\n",
    "message <- c('Your query returns', '0', 'rows')\n",
    "# get postcodes and run query\n",
    "if (state != '') {\n",
    "    state_codes <- subset(pc_states, pc_states$states == state)\n",
    "    result_1 <- subset(slang_data, eval(expression(slang_data$postcode > state_codes$pc_start & slang_data$postcode < state_codes$pc_end)))\n",
    "    } else {result_1 <- slang_data}\n",
    "\n",
    "# filter by gender\n",
    "if (gender != '') {\n",
    "    result_2 <- subset(result_1, result_1$Q11 == gender)\n",
    "} else {result_2 <- result_1}\n",
    "\n",
    "# filter by age\n",
    "if (age != '') {\n",
    "    result_3 <- subset(result_2, result_2$Q3 == age)\n",
    "} else {result_3 <- result_2}\n",
    "\n",
    "if (nrow(result_3) == 0) {\n",
    "    message_str <- paste(message, collapse = ' ')\n",
    "    print(message_str)\n",
    "} else {\n",
    "    message[2] <- nrow(result_3)\n",
    "    message_str <- paste(message, collapse = ' ')\n",
    "    print(message_str)\n",
    "    if (prompts > 0) {\n",
    "# delete columns for unwanted prompts\n",
    "        result_final <- result_3[c(1:14, prompt_cols[prompts,2]:prompt_cols[prompts,3])]\n",
    "    } else {result_final <- result_3}\n",
    "   if (nrow(result_final) < 5) {\n",
    "       result_final\n",
    "       } else {\n",
    "       result_final[1:5 ,]\n",
    "       }\n",
    "}\n",
    "  \n"
   ]
  },
  {
   "cell_type": "markdown",
   "id": "7992150e",
   "metadata": {},
   "source": [
    "## Exporting results\n",
    "\n",
    "You can export your results as a comma-separated values file which can be opened by Excel (or other spreadsheet software). The syntax for doing this is `write.csv([name of table to export], '[location for saving].csv')`. If you just provide a file name for the export (and it has to include the .csv extension!), the file will be saved in your current working directory in Cloudstor or SWAN. It is easy to download the file from there to save on your computer. But you can also specify the location on your computer directly. If you do this, you have to provide a complete path to the preferred location, and this should use / as dividers (not \\\\)."
   ]
  },
  {
   "cell_type": "code",
   "execution_count": null,
   "id": "57bf95a7",
   "metadata": {},
   "outputs": [],
   "source": [
    "write.csv(result_final, 'export.csv' )"
   ]
  },
  {
   "cell_type": "code",
   "execution_count": null,
   "id": "d146b622-5d90-4800-ae51-30684ed8d99c",
   "metadata": {},
   "outputs": [],
   "source": []
  }
 ],
 "metadata": {
  "kernelspec": {
   "display_name": "R",
   "language": "R",
   "name": "ir"
  },
  "language_info": {
   "codemirror_mode": "r",
   "file_extension": ".r",
   "mimetype": "text/x-r-source",
   "name": "R",
   "pygments_lexer": "r",
   "version": "4.2.1"
  }
 },
 "nbformat": 4,
 "nbformat_minor": 5
}
