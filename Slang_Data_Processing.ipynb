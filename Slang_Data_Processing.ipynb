{
 "cells": [
  {
   "attachments": {},
   "cell_type": "markdown",
   "id": "ba4f1503-e863-4972-8170-04967f8206ac",
   "metadata": {},
   "source": [
    "# Slang Data Processing\n",
    "\n",
    "This notebook is used for processing the file *Australian Slang v2_September 5, 2021.csv* which is the original data from the Australian Slang Survey Data collection.\n",
    "\n",
    "The notebook will create two outputs:\n",
    "1. A CSV folder with 14 CSV files - one for each of the slang prompts given to the participants. Non-responses have been removed, participant IDs added, and minor character encoding and formatting applied.\n",
    "2. A de-identified version of the original survey data, where seven columns have been removed."
   ]
  },
  {
   "cell_type": "markdown",
   "id": "6bf1c707-4ec0-4d91-988d-93afe4bb0419",
   "metadata": {},
   "source": [
    "## Import libraries"
   ]
  },
  {
   "cell_type": "code",
   "execution_count": null,
   "id": "b74e9671-c14e-423b-86cc-06f45578582b",
   "metadata": {},
   "outputs": [],
   "source": [
    "import pandas as pd\n",
    "import re\n",
    "import os"
   ]
  },
  {
   "cell_type": "markdown",
   "id": "e35a2f69-afef-412f-9e30-70d5a106095b",
   "metadata": {},
   "source": [
    "## Load Australian Slang v2_September 5, 2021.csv as a dataframe"
   ]
  },
  {
   "cell_type": "code",
   "execution_count": null,
   "id": "fcab72f3-e297-4749-bb4a-80fdb415ead3",
   "metadata": {},
   "outputs": [],
   "source": [
    "# Load Australian Slang v2_September 5, 2021.csv\n",
    "df = pd.read_csv('Australian Slang v2_September 5, 2021.csv')\n",
    "\n",
    "# Show the first few rows\n",
    "df.head()"
   ]
  },
  {
   "cell_type": "markdown",
   "id": "887a8aeb-3f20-4f2a-80c8-8649d6c21c79",
   "metadata": {},
   "source": [
    "## Find the index of each column"
   ]
  },
  {
   "cell_type": "code",
   "execution_count": null,
   "id": "fa998400-f7e4-4990-877c-bd03ab70ebcd",
   "metadata": {
    "scrolled": true
   },
   "outputs": [],
   "source": [
    "for i, col in enumerate(df.columns):\n",
    "    print(f\"{i}: {col}\")"
   ]
  },
  {
   "cell_type": "markdown",
   "id": "88d2e351-9610-4e54-8831-f3e7b9ef26eb",
   "metadata": {},
   "source": [
    "## Separate data into prompts\n",
    "\n",
    "Selecting only the columns:\n",
    "- Response ID\n",
    "- Do you know any typically Australian word or expression for [prompt]?\n",
    "- What is the word or expression?\n",
    "- What does this word or expression mean? (Note: Where included in the survey)\n",
    "- Can you provide an example of the word or expression in use?\n",
    "- When and where have you heard this word or expression being used?\n",
    "- Is there anything else you would like to tell us about this word or expression?"
   ]
  },
  {
   "cell_type": "code",
   "execution_count": null,
   "id": "4a5a3a72-f14f-47df-bb04-98f6eebaadf8",
   "metadata": {},
   "outputs": [],
   "source": [
    "verygood = df.iloc[:, [8, 26, 27, 28, 29, 30]]\n",
    "verybad = df.iloc[:, [8, 31, 32, 33, 34, 35]]\n",
    "stupid = df.iloc[:, [8, 36, 37, 38, 39, 40]]\n",
    "attractiveperson = df.iloc[:, [8, 41, 42, 43, 44, 45]]\n",
    "attractivefemale = df.iloc[:, [8, 46, 47, 48, 49, 50]]\n",
    "attractivemale = df.iloc[:, [8, 51, 52, 53, 54, 55]]\n",
    "unattractiveperson = df.iloc[:, [8, 56, 57, 58, 59, 60]]\n",
    "arrogant = df.iloc[:, [8, 61, 62, 63, 64, 65]]\n",
    "nonsense = df.iloc[:, [8, 66, 67, 68, 69, 70]]\n",
    "alcohol = df.iloc[:, [8, 71, 72, 73, 74, 75]]\n",
    "intoxicated = df.iloc[:, [8, 76, 77, 78, 79, 80]]\n",
    "doesntdofairshare = df.iloc[:, [8, 81, 82, 83, 84, 85]]\n",
    "bodypart = df.iloc[:, [8, 86, 87, 88, 89, 90, 91]]          # From here onwards there are 7 columns instead of 6\n",
    "freechoice_a = df.iloc[:, [8, 92, 93, 94, 95, 96, 97]]\n",
    "freechoice_b = df.iloc[:, [8, 98, 99, 100, 101, 102, 103]]\n",
    "freechoice_c = df.iloc[:, [8, 104, 105, 106, 107, 108, 109]]\n",
    "freechoice_d = df.iloc[:, [8, 110, 111, 112, 113, 114, 115]]\n",
    "freechoice_e = df.iloc[:, [8, 116, 117, 118, 119, 120, 121]]"
   ]
  },
  {
   "cell_type": "markdown",
   "id": "55fb734b-5342-4171-ac90-a441e801de3a",
   "metadata": {},
   "source": [
    "## Insert 'prompt' columns"
   ]
  },
  {
   "cell_type": "code",
   "execution_count": null,
   "id": "95950d95-0170-4a3a-9985-495d2d352d92",
   "metadata": {},
   "outputs": [],
   "source": [
    "verygood.insert(loc=1, column='prompt', value='Very Good')\n",
    "verybad.insert(loc=1, column='prompt', value='Very Bad')\n",
    "stupid.insert(loc=1, column='prompt', value='Stupid')\n",
    "attractiveperson.insert(loc=1, column='prompt', value='Attractive Person')\n",
    "attractivefemale.insert(loc=1, column='prompt', value='Attractive Female')\n",
    "attractivemale.insert(loc=1, column='prompt', value='Attractive Male')\n",
    "unattractiveperson.insert(loc=1, column='prompt', value='Unattractive Person')\n",
    "arrogant.insert(loc=1, column='prompt', value='Arrogant')\n",
    "nonsense.insert(loc=1, column='prompt', value='Nonsense')\n",
    "alcohol.insert(loc=1, column='prompt', value='Alcohol')\n",
    "intoxicated.insert(loc=1, column='prompt', value='Intoxicated')\n",
    "doesntdofairshare.insert(loc=1, column='prompt', value=\"Doesn't Do Fair Share\")\n",
    "bodypart.insert(loc=1, column='prompt', value='Body Part')\n",
    "freechoice_a.insert(loc=1, column='prompt', value='(Free Choice)')\n",
    "freechoice_b.insert(loc=1, column='prompt', value='(Free Choice)')\n",
    "freechoice_c.insert(loc=1, column='prompt', value='(Free Choice)')\n",
    "freechoice_d.insert(loc=1, column='prompt', value='(Free Choice)')\n",
    "freechoice_e.insert(loc=1, column='prompt', value='(Free Choice)')"
   ]
  },
  {
   "cell_type": "markdown",
   "id": "5a27af70-6f71-41c7-8040-3844b978c6b0",
   "metadata": {},
   "source": [
    "## Insert empty 'meaning' columns for prompts missing this"
   ]
  },
  {
   "cell_type": "code",
   "execution_count": null,
   "id": "1bf2447e-3f15-4cec-b812-686295baf889",
   "metadata": {},
   "outputs": [],
   "source": [
    "verygood.insert(loc=4, column='meaning', value='')\n",
    "verybad.insert(loc=4, column='meaning', value='')\n",
    "stupid.insert(loc=4, column='meaning', value='')\n",
    "attractiveperson.insert(loc=4, column='meaning', value='')\n",
    "attractivefemale.insert(loc=4, column='meaning', value='')\n",
    "attractivemale.insert(loc=4, column='meaning', value='')\n",
    "unattractiveperson.insert(loc=4, column='meaning', value='')\n",
    "arrogant.insert(loc=4, column='meaning', value='')\n",
    "nonsense.insert(loc=4, column='meaning', value='')\n",
    "alcohol.insert(loc=4, column='meaning', value='')\n",
    "intoxicated.insert(loc=4, column='meaning', value='')\n",
    "doesntdofairshare.insert(loc=4, column='meaning', value='')"
   ]
  },
  {
   "cell_type": "markdown",
   "id": "982f260c-07a9-496e-8d2a-a131938a2035",
   "metadata": {},
   "source": [
    "## Check each prompt has the same number of columns"
   ]
  },
  {
   "cell_type": "code",
   "execution_count": null,
   "id": "ba94509c-1121-411c-ae3a-d15b5fa8ad36",
   "metadata": {},
   "outputs": [],
   "source": [
    "print(\"verygood:\", len(verygood.columns))\n",
    "print(\"verybad:\", len(verybad.columns))\n",
    "print(\"stupid:\", len(stupid.columns))\n",
    "print(\"attractiveperson:\", len(attractiveperson.columns))\n",
    "print(\"attractivefemale:\", len(attractivefemale.columns))\n",
    "print(\"attractivemale:\", len(attractivemale.columns))\n",
    "print(\"unattractiveperson:\", len(unattractiveperson.columns))\n",
    "print(\"arrogant:\", len(arrogant.columns))\n",
    "print(\"nonsense:\", len(nonsense.columns))\n",
    "print(\"alcohol:\", len(alcohol.columns))\n",
    "print(\"intoxicated:\", len(intoxicated.columns))\n",
    "print(\"doesntdofairshare:\", len(doesntdofairshare.columns))\n",
    "print(\"bodypart:\", len(bodypart.columns))\n",
    "print(\"freechoice_a:\", len(freechoice_a.columns))\n",
    "print(\"freechoice_b:\", len(freechoice_b.columns))\n",
    "print(\"freechoice_c:\", len(freechoice_c.columns))\n",
    "print(\"freechoice_d:\", len(freechoice_d.columns))\n",
    "print(\"freechoice_e:\", len(freechoice_e.columns))"
   ]
  },
  {
   "cell_type": "markdown",
   "id": "8b999867-0029-4f39-aebc-f0c647ff7333",
   "metadata": {},
   "source": [
    "## Rename columns"
   ]
  },
  {
   "cell_type": "code",
   "execution_count": null,
   "id": "82a540ac-b785-489f-b23f-c74d4060877c",
   "metadata": {},
   "outputs": [],
   "source": [
    "verygood.columns = ['responseID', 'prompt', 'known', 'slang', 'meaning', 'exampleUsage', 'whenWhereUsed', 'additionalNotes']\n",
    "verybad.columns = ['responseID', 'prompt', 'known', 'slang', 'meaning', 'exampleUsage', 'whenWhereUsed', 'additionalNotes']\n",
    "stupid.columns = ['responseID', 'prompt', 'known', 'slang', 'meaning', 'exampleUsage', 'whenWhereUsed', 'additionalNotes']\n",
    "attractiveperson.columns = ['responseID', 'prompt', 'known', 'slang', 'meaning', 'exampleUsage', 'whenWhereUsed', 'additionalNotes']\n",
    "attractivefemale.columns = ['responseID', 'prompt', 'known', 'slang', 'meaning', 'exampleUsage', 'whenWhereUsed', 'additionalNotes']\n",
    "attractivemale.columns = ['responseID', 'prompt', 'known', 'slang', 'meaning', 'exampleUsage', 'whenWhereUsed', 'additionalNotes']\n",
    "unattractiveperson.columns = ['responseID', 'prompt', 'known', 'slang', 'meaning', 'exampleUsage', 'whenWhereUsed', 'additionalNotes']\n",
    "arrogant.columns = ['responseID', 'prompt', 'known', 'slang', 'meaning', 'exampleUsage', 'whenWhereUsed', 'additionalNotes']\n",
    "nonsense.columns = ['responseID', 'prompt', 'known', 'slang', 'meaning', 'exampleUsage', 'whenWhereUsed', 'additionalNotes']\n",
    "alcohol.columns = ['responseID', 'prompt', 'known', 'slang', 'meaning', 'exampleUsage', 'whenWhereUsed', 'additionalNotes']\n",
    "intoxicated.columns = ['responseID', 'prompt', 'known', 'slang', 'meaning', 'exampleUsage', 'whenWhereUsed', 'additionalNotes']\n",
    "doesntdofairshare.columns = ['responseID', 'prompt', 'known', 'slang', 'meaning', 'exampleUsage', 'whenWhereUsed', 'additionalNotes']\n",
    "bodypart.columns = ['responseID', 'prompt', 'known', 'slang', 'meaning', 'exampleUsage', 'whenWhereUsed', 'additionalNotes']\n",
    "freechoice_a.columns = ['responseID', 'prompt', 'known', 'slang', 'meaning', 'exampleUsage', 'whenWhereUsed', 'additionalNotes']\n",
    "freechoice_b.columns = ['responseID', 'prompt', 'known', 'slang', 'meaning', 'exampleUsage', 'whenWhereUsed', 'additionalNotes']\n",
    "freechoice_c.columns = ['responseID', 'prompt', 'known', 'slang', 'meaning', 'exampleUsage', 'whenWhereUsed', 'additionalNotes']\n",
    "freechoice_d.columns = ['responseID', 'prompt', 'known', 'slang', 'meaning', 'exampleUsage', 'whenWhereUsed', 'additionalNotes']\n",
    "freechoice_e.columns = ['responseID', 'prompt', 'known', 'slang', 'meaning', 'exampleUsage', 'whenWhereUsed', 'additionalNotes']"
   ]
  },
  {
   "cell_type": "markdown",
   "id": "785cebaa-b611-4f30-b640-349a4736d93f",
   "metadata": {},
   "source": [
    "## Check each prompt has the same column names"
   ]
  },
  {
   "cell_type": "code",
   "execution_count": null,
   "id": "0b39e927-37c6-4679-bf62-e81db8778acc",
   "metadata": {},
   "outputs": [],
   "source": [
    "# List of all your DataFrames\n",
    "dfs = [\n",
    "    verygood,\n",
    "    verybad,\n",
    "    stupid,\n",
    "    attractiveperson,\n",
    "    attractivefemale,\n",
    "    attractivemale,\n",
    "    unattractiveperson,\n",
    "    arrogant,\n",
    "    nonsense,\n",
    "    alcohol,\n",
    "    intoxicated,\n",
    "    doesntdofairshare,\n",
    "    bodypart,\n",
    "    freechoice_a,\n",
    "    freechoice_b,\n",
    "    freechoice_c,\n",
    "    freechoice_d,\n",
    "    freechoice_e\n",
    "]\n",
    "\n",
    "for i, df in enumerate(dfs):\n",
    "    print(f\"DataFrame {i} columns: {df.columns.tolist()}\")"
   ]
  },
  {
   "cell_type": "markdown",
   "id": "07c0d499-e337-4c7a-a051-570c92cae79f",
   "metadata": {},
   "source": [
    "## Remove the first two rows of each prompt"
   ]
  },
  {
   "cell_type": "code",
   "execution_count": null,
   "id": "414281dd-e573-4748-8d8f-05c640c0ec00",
   "metadata": {},
   "outputs": [],
   "source": [
    "verygood = verygood.iloc[2:].reset_index(drop=True)\n",
    "verybad = verybad.iloc[2:].reset_index(drop=True)\n",
    "stupid = stupid.iloc[2:].reset_index(drop=True)\n",
    "attractiveperson = attractiveperson.iloc[2:].reset_index(drop=True)\n",
    "attractivefemale = attractivefemale.iloc[2:].reset_index(drop=True)\n",
    "attractivemale = attractivemale.iloc[2:].reset_index(drop=True)\n",
    "unattractiveperson = unattractiveperson.iloc[2:].reset_index(drop=True)\n",
    "arrogant = arrogant.iloc[2:].reset_index(drop=True)\n",
    "nonsense = nonsense.iloc[2:].reset_index(drop=True)\n",
    "alcohol = alcohol.iloc[2:].reset_index(drop=True)\n",
    "intoxicated = intoxicated.iloc[2:].reset_index(drop=True)\n",
    "doesntdofairshare = doesntdofairshare.iloc[2:].reset_index(drop=True)\n",
    "bodypart = bodypart.iloc[2:].reset_index(drop=True)\n",
    "freechoice_a = freechoice_a.iloc[2:].reset_index(drop=True)\n",
    "freechoice_b = freechoice_b.iloc[2:].reset_index(drop=True)\n",
    "freechoice_c = freechoice_c.iloc[2:].reset_index(drop=True)\n",
    "freechoice_d = freechoice_d.iloc[2:].reset_index(drop=True)\n",
    "freechoice_e = freechoice_e.iloc[2:].reset_index(drop=True)"
   ]
  },
  {
   "cell_type": "markdown",
   "id": "fae61c96-a9ca-4236-b5fe-dc73a3a19353",
   "metadata": {},
   "source": [
    "## Recombine prompts to single dataframe"
   ]
  },
  {
   "cell_type": "code",
   "execution_count": null,
   "id": "2b7f31e6-c327-4bbb-8dd0-bdd647dba7d0",
   "metadata": {},
   "outputs": [],
   "source": [
    "dfs = [\n",
    "    verygood,\n",
    "    verybad,\n",
    "    stupid,\n",
    "    attractiveperson,\n",
    "    attractivefemale,\n",
    "    attractivemale,\n",
    "    unattractiveperson,\n",
    "    arrogant,\n",
    "    nonsense,\n",
    "    alcohol,\n",
    "    intoxicated,\n",
    "    doesntdofairshare,\n",
    "    bodypart,\n",
    "    freechoice_a,\n",
    "    freechoice_b,\n",
    "    freechoice_c,\n",
    "    freechoice_d,\n",
    "    freechoice_e\n",
    "]\n",
    "\n",
    "combined_df = pd.concat(dfs, axis=0, ignore_index=True)\n",
    "\n",
    "print(f\"Contents of 'prompt' column: {combined_df['prompt'].unique()}\")"
   ]
  },
  {
   "cell_type": "markdown",
   "id": "d50c9d9c-be7a-488e-9e8e-01b36a60f57f",
   "metadata": {},
   "source": [
    "## Remove rows where 'slang' is empty"
   ]
  },
  {
   "cell_type": "code",
   "execution_count": null,
   "id": "714aa869-63f7-4c22-a795-f3f24339f0be",
   "metadata": {},
   "outputs": [],
   "source": [
    "combined_df = combined_df[combined_df['slang'].notna() & (combined_df['slang'].str.strip() != '')].reset_index(drop=True)\n",
    "combined_df = combined_df.drop(columns='known')\n",
    "combined_df.head(15)"
   ]
  },
  {
   "cell_type": "markdown",
   "id": "998aa16b-7b40-4060-817e-1501f7a7653c",
   "metadata": {},
   "source": [
    "## Add participantID to dataframe using responseID as a key"
   ]
  },
  {
   "cell_type": "code",
   "execution_count": null,
   "id": "8248d966-afd3-4d68-a612-7b8cc1263cbb",
   "metadata": {},
   "outputs": [],
   "source": [
    "# Load the key\n",
    "key_df = pd.read_csv('response_participant_key.txt', sep='\\t', header=None, names=['responseID', 'participantID'])\n",
    "\n",
    "# Merge with combined_df\n",
    "combined_df = key_df.merge(combined_df, on='responseID', how='right')\n",
    "\n",
    "# Move participantID to the first column\n",
    "cols = combined_df.columns.tolist()\n",
    "cols.insert(0, cols.pop(cols.index('participantID')))\n",
    "combined_df = combined_df[cols]\n",
    "\n",
    "# Check rows where participantID is missing\n",
    "missing_participantID = combined_df[combined_df['participantID'].isna()]\n",
    "print(f\"Number of rows with missing participantID: {len(missing_participantID)}\")\n",
    "\n",
    "combined_df.head()"
   ]
  },
  {
   "cell_type": "markdown",
   "id": "576d3ca7-2d9a-4ce7-b162-fc2b70941fa5",
   "metadata": {},
   "source": [
    "## Get counts for responses per prompt, total responses and total unique participants"
   ]
  },
  {
   "cell_type": "code",
   "execution_count": null,
   "id": "d1f0a149-d8c6-4a71-aea5-44bd3d2f5f3b",
   "metadata": {},
   "outputs": [],
   "source": [
    "print(f\"Very Good: {len(combined_df[combined_df['prompt'] == 'Very Good'])} rows\")\n",
    "print(f\"Very Bad: {len(combined_df[combined_df['prompt'] == 'Very Bad'])} rows\")\n",
    "print(f\"Stupid: {len(combined_df[combined_df['prompt'] == 'Stupid'])} rows\")\n",
    "print(f\"Attractive Person: {len(combined_df[combined_df['prompt'] == 'Attractive Person'])} rows\")\n",
    "print(f\"Attractive Female: {len(combined_df[combined_df['prompt'] == 'Attractive Female'])} rows\")\n",
    "print(f\"Attractive Male: {len(combined_df[combined_df['prompt'] == 'Attractive Male'])} rows\")\n",
    "print(f\"Unattractive Person: {len(combined_df[combined_df['prompt'] == 'Unattractive Person'])} rows\")\n",
    "print(f\"Arrogant: {len(combined_df[combined_df['prompt'] == 'Arrogant'])} rows\")\n",
    "print(f\"Nonsense: {len(combined_df[combined_df['prompt'] == 'Nonsense'])} rows\")\n",
    "print(f\"Alcohol: {len(combined_df[combined_df['prompt'] == 'Alcohol'])} rows\")\n",
    "print(f\"Intoxicated: {len(combined_df[combined_df['prompt'] == 'Intoxicated'])} rows\")\n",
    "print(f\"Doesn't Do Fair Share: {len(combined_df[combined_df['prompt'] == \"Doesn't Do Fair Share\"])} rows\")\n",
    "print(f\"Body Part: {len(combined_df[combined_df['prompt'] == 'Body Part'])} rows\")\n",
    "print(f\"(Free Choice): {len(combined_df[combined_df['prompt'] == '(Free Choice)'])} rows\")\n",
    "\n",
    "total_count = len(combined_df['participantID'])\n",
    "unique_count = combined_df['participantID'].nunique()\n",
    "\n",
    "print(f\"Total responses: {total_count}\")\n",
    "print(f\"Unique participants: {unique_count}\")"
   ]
  },
  {
   "cell_type": "markdown",
   "id": "cd05f81a-75f0-4a49-8bc7-1c4fd7c57603",
   "metadata": {},
   "source": [
    "## Clean characters in dataframe"
   ]
  },
  {
   "cell_type": "code",
   "execution_count": null,
   "id": "056f862a-d13b-4ffc-a47b-f076d6387c83",
   "metadata": {},
   "outputs": [],
   "source": [
    "replacements = {\n",
    "    '“': '\"',\n",
    "    '”': '\"',\n",
    "    '‘': \"'\",\n",
    "    '’': \"'\",\n",
    "    '`': \"'\",\n",
    "    'Ý': 'Y',\n",
    "    'ç': 'c',\n",
    "    'ï': 'i',\n",
    "    'ó': 'o',\n",
    "    'ķ': 'k',\n",
    "    '—': '-',\n",
    "    '  ': ' ',\n",
    "    ' ,': ',',\n",
    "    ' ?': '?',\n",
    "    ' !': '!',\n",
    "    ' .': '.',\n",
    "    '[ ': '[',\n",
    "    '( ': '(',\n",
    "    '{ ': '{',\n",
    "    ' ]': ']',\n",
    "    ' )': ')',\n",
    "    ' }': '}',\n",
    "}\n",
    "\n",
    "def clean_text(val):\n",
    "    if isinstance(val, str):\n",
    "        val = val.strip()\n",
    "        for old, new in replacements.items():\n",
    "            val = val.replace(old, new)\n",
    "        # Add space after comma if missing\n",
    "        val = re.sub(r',([^\\s])', r', \\1', val)\n",
    "    return val\n",
    "\n",
    "combined_df_clean = combined_df.map(clean_text)"
   ]
  },
  {
   "cell_type": "markdown",
   "id": "4001e905-eebb-4f88-a7b3-d403fa12b846",
   "metadata": {},
   "source": [
    "## Create CSV folder with cleaned files per prompt"
   ]
  },
  {
   "cell_type": "code",
   "execution_count": null,
   "id": "07870632-784e-494f-871d-3eda90e40a7b",
   "metadata": {},
   "outputs": [],
   "source": [
    "# Create a CSV folder if it doesn't exist\n",
    "os.makedirs(\"CSV\", exist_ok=True)\n",
    "\n",
    "# Filter rows for each prompt\n",
    "verygood_clean = combined_df_clean[combined_df_clean['prompt'].str.contains(\"Very Good\", na=False)]\n",
    "verybad_clean = combined_df_clean[combined_df_clean['prompt'].str.contains(\"Very Bad\", na=False)]\n",
    "stupid_clean = combined_df_clean[combined_df_clean['prompt'].str.contains(\"Stupid\", na=False)]\n",
    "attractiveperson_clean = combined_df_clean[combined_df_clean['prompt'].str.contains(\"Attractive Person\", na=False)]\n",
    "attractivefemale_clean = combined_df_clean[combined_df_clean['prompt'].str.contains(\"Attractive Female\", na=False)]\n",
    "attractivemale_clean = combined_df_clean[combined_df_clean['prompt'].str.contains(\"Attractive Male\", na=False)]\n",
    "unattractiveperson_clean = combined_df_clean[combined_df_clean['prompt'].str.contains(\"Unattractive Person\", na=False)]\n",
    "arrogant_clean = combined_df_clean[combined_df_clean['prompt'].str.contains(\"Arrogant\", na=False)]\n",
    "nonsense_clean = combined_df_clean[combined_df_clean['prompt'].str.contains(\"Nonsense\", na=False)]\n",
    "alcohol_clean = combined_df_clean[combined_df_clean['prompt'].str.contains(\"Alcohol\", na=False)]\n",
    "intoxicated_clean = combined_df_clean[combined_df_clean['prompt'].str.contains(\"Intoxicated\", na=False)]\n",
    "doesntdofairshare_clean = combined_df_clean[combined_df_clean['prompt'].str.contains(\"Doesn't Do Fair Share\", na=False)]\n",
    "bodypart_clean = combined_df_clean[combined_df_clean['prompt'].str.contains(\"Body Part\", na=False)]\n",
    "freechoice_clean = combined_df_clean[combined_df_clean['prompt'].str.contains(\"Free Choice\", na=False)]\n",
    "\n",
    "# Export files to CSV\n",
    "verygood_clean.to_csv(\"CSV/Item01-VeryGood.csv\", index=False)\n",
    "verybad_clean.to_csv(\"CSV/Item02-VeryBad.csv\", index=False)\n",
    "stupid_clean.to_csv(\"CSV/Item03-Stupid.csv\", index=False)\n",
    "attractiveperson_clean.to_csv(\"CSV/Item04-AttractivePerson.csv\", index=False)\n",
    "attractivefemale_clean.to_csv(\"CSV/Item05-AttractiveFemale.csv\", index=False)\n",
    "attractivemale_clean.to_csv(\"CSV/Item06-AttractiveMale.csv\", index=False)\n",
    "unattractiveperson_clean.to_csv(\"CSV/Item07-UnattractivePerson.csv\", index=False)\n",
    "arrogant_clean.to_csv(\"CSV/Item08-Arrogant.csv\", index=False)\n",
    "nonsense_clean.to_csv(\"CSV/Item09-Nonsense.csv\", index=False)\n",
    "alcohol_clean.to_csv(\"CSV/Item10-Alcohol.csv\", index=False)\n",
    "intoxicated_clean.to_csv(\"CSV/Item11-Intoxicated.csv\", index=False)\n",
    "doesntdofairshare_clean.to_csv(\"CSV/Item12-DoesntDoFairShare.csv\", index=False)\n",
    "bodypart_clean.to_csv(\"CSV/Item13-BodyPart.csv\", index=False)\n",
    "freechoice_clean.to_csv(\"CSV/Item14-FreeChoice.csv\", index=False)\n",
    "print('Files created in CSV folder.')\n",
    "\n",
    "print('File summary:')\n",
    "print(f\"Very Good: {len(verygood_clean)} rows\")\n",
    "print(f\"Very Bad: {len(verybad_clean)} rows\")\n",
    "print(f\"Stupid: {len(stupid_clean)} rows\")\n",
    "print(f\"Attractive Person: {len(attractiveperson_clean)} rows\")\n",
    "print(f\"Attractive Female: {len(attractivefemale_clean)} rows\")\n",
    "print(f\"Attractive Male: {len(attractivemale_clean)} rows\")\n",
    "print(f\"Unattractive Person: {len(unattractiveperson_clean)} rows\")\n",
    "print(f\"Arrogant: {len(arrogant_clean)} rows\")\n",
    "print(f\"Nonsense: {len(nonsense_clean)} rows\")\n",
    "print(f\"Alcohol: {len(alcohol_clean)} rows\")\n",
    "print(f\"Intoxicated: {len(intoxicated_clean)} rows\")\n",
    "print(f\"Doesn't Do Fair Share: {len(doesntdofairshare_clean)} rows\")\n",
    "print(f\"Body Part: {len(bodypart_clean)} rows\")\n",
    "print(f\"(Free Choice): {len(freechoice_clean)} rows\")"
   ]
  },
  {
   "attachments": {},
   "cell_type": "markdown",
   "id": "7ee0dcd6-33d1-424b-bf10-95c985d087f6",
   "metadata": {},
   "source": [
    "## Create de-identified CSV version of original data"
   ]
  },
  {
   "cell_type": "code",
   "execution_count": null,
   "id": "80b27cf1-13e3-443d-97c3-bc14eadefd15",
   "metadata": {},
   "outputs": [],
   "source": [
    "# Load Australian Slang v2_September 5, 2021.csv\n",
    "orig = pd.read_csv('Australian Slang v2_September 5, 2021.csv')\n",
    "\n",
    "# Show the first few rows\n",
    "orig.head()"
   ]
  },
  {
   "cell_type": "markdown",
   "id": "5bd02ad1-930c-43af-813a-500806d28032",
   "metadata": {},
   "source": [
    "## Remove identifying columns\n",
    "\n",
    "Columns removed:\n",
    "- 3: IPAddress\n",
    "- 9: RecipientLastName\n",
    "- 10: RecipientFirstName\n",
    "- 11: RecipientEmail\n",
    "- 13: LocationLatitude\n",
    "- 14: LocationLongitude\n",
    "- 25: If you would be willing to answer further questions, please provide an emailaddress. from Australian Slang v2_September 5, 2021.csv removed."
   ]
  },
  {
   "cell_type": "code",
   "execution_count": null,
   "id": "01923b0c-3743-4f31-b813-a23f1f038c73",
   "metadata": {},
   "outputs": [],
   "source": [
    "data = orig.drop(orig.columns[[3, 9, 10, 11, 13, 14, 25]], axis=1)\n",
    "data.head()"
   ]
  },
  {
   "cell_type": "markdown",
   "id": "c215ba27-8699-495a-a132-b16f7014c8e8",
   "metadata": {},
   "source": [
    "## List columns after selected ones were removed"
   ]
  },
  {
   "cell_type": "code",
   "execution_count": null,
   "id": "abaaf41b-c127-42cf-891b-9c9f2ed34db8",
   "metadata": {
    "scrolled": true
   },
   "outputs": [],
   "source": [
    "for i, col in enumerate(data.columns):\n",
    "    print(f\"{i}: {col}\")"
   ]
  },
  {
   "cell_type": "markdown",
   "id": "75059275-8929-4b0f-9bac-c8ad458a19cf",
   "metadata": {},
   "source": [
    "## Export to de-identified CSV"
   ]
  },
  {
   "cell_type": "code",
   "execution_count": null,
   "id": "74482c85-86e6-44bc-a796-e02ad632b637",
   "metadata": {},
   "outputs": [],
   "source": [
    "data.to_csv(\"Australian Slang v2_September 5, 2021_deidentified.csv\", index=False)"
   ]
  }
 ],
 "metadata": {
  "kernelspec": {
   "display_name": "Python [conda env:base] *",
   "language": "python",
   "name": "conda-base-py"
  },
  "language_info": {
   "codemirror_mode": {
    "name": "ipython",
    "version": 3
   },
   "file_extension": ".py",
   "mimetype": "text/x-python",
   "name": "python",
   "nbconvert_exporter": "python",
   "pygments_lexer": "ipython3",
   "version": "3.12.7"
  }
 },
 "nbformat": 4,
 "nbformat_minor": 5
}
